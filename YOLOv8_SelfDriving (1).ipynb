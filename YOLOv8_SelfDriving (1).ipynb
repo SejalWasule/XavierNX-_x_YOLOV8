{
  "cells": [
    {
      "cell_type": "markdown",
      "metadata": {
        "id": "t6MPjfT5NrKQ"
      },
      "source": [
        "<div align=\"center\">\n",
        "\n",
        "  <a href=\"https://ultralytics.com/yolov8\" target=\"_blank\">\n",
        "    <img width=\"1024\", src=\"https://raw.githubusercontent.com/ultralytics/assets/main/yolov8/banner-yolov8.png\"></a>\n",
        "\n",
        "\n",
        "<br>\n",
        "  <a href=\"https://console.paperspace.com/github/ultralytics/ultralytics\"><img src=\"https://assets.paperspace.io/img/gradient-badge.svg\" alt=\"Run on Gradient\"/></a>\n",
        "  <a href=\"https://colab.research.google.com/github/ultralytics/ultralytics/blob/main/examples/tutorial.ipynb\"><img src=\"https://colab.research.google.com/assets/colab-badge.svg\" alt=\"Open In Colab\"></a>\n",
        "  <a href=\"https://www.kaggle.com/ultralytics/yolov8\"><img src=\"https://kaggle.com/static/images/open-in-kaggle.svg\" alt=\"Open In Kaggle\"></a>\n",
        "<br>\n",
        "\n",
        "Welcome to the Ultralytics YOLOv8 🚀 notebook! <a href=\"https://github.com/ultralytics/ultralytics\">YOLOv8</a> is the latest version of the YOLO (You Only Look Once) AI models developed by <a href=\"https://ultralytics.com\">Ultralytics</a>. This notebook serves as the starting point for exploring the various resources available to help you get started with YOLOv8 and understand its features and capabilities.\n",
        "\n",
        "YOLOv8 models are fast, accurate, and easy to use, making them ideal for various object detection and image segmentation tasks. They can be trained on large datasets and run on diverse hardware platforms, from CPUs to GPUs.\n",
        "\n",
        "We hope that the resources in this notebook will help you get the most out of YOLOv8. Please browse the YOLOv8 <a href=\"https://docs.ultralytics.com/\">Docs</a> for details, raise an issue on <a href=\"https://github.com/ultralytics/ultralytics\">GitHub</a> for support, and join our <a href=\"https://discord.gg/bNc8wwx7Qy\">Discord</a> community for questions and discussions!\n",
        "\n",
        "</div>"
      ]
    },
    {
      "cell_type": "markdown",
      "metadata": {
        "id": "7mGmQbAO5pQb"
      },
      "source": [
        "# Setup\n",
        "\n",
        "Pip install `ultralytics` and [dependencies](https://github.com/ultralytics/ultralytics/blob/main/requirements.txt) and check software and hardware."
      ]
    },
    {
      "cell_type": "code",
      "execution_count": null,
      "metadata": {
        "scrolled": true,
        "colab": {
          "base_uri": "https://localhost:8080/"
        },
        "id": "bejtvjnBcdau",
        "outputId": "288d9ed6-5d36-41f5-8f1e-76791b0419f3"
      },
      "outputs": [
        {
          "output_type": "stream",
          "name": "stdout",
          "text": [
            "Requirement already satisfied: chardet in /usr/local/lib/python3.10/dist-packages (5.2.0)\n"
          ]
        }
      ],
      "source": [
        "!pip install chardet"
      ]
    },
    {
      "cell_type": "code",
      "execution_count": null,
      "metadata": {
        "colab": {
          "base_uri": "https://localhost:8080/"
        },
        "id": "wbvMlHd_QwMG",
        "outputId": "b383dfcf-5f5c-431b-d655-41e482cbe61f"
      },
      "outputs": [
        {
          "output_type": "stream",
          "name": "stderr",
          "text": [
            "Ultralytics YOLOv8.0.180 🚀 Python-3.10.12 torch-2.0.1+cu118 CUDA:0 (Tesla T4, 15102MiB)\n",
            "Setup complete ✅ (2 CPUs, 12.7 GB RAM, 27.1/78.2 GB disk)\n"
          ]
        }
      ],
      "source": [
        "%pip install ultralytics\n",
        "import ultralytics\n",
        "ultralytics.checks()"
      ]
    },
    {
      "cell_type": "code",
      "execution_count": null,
      "metadata": {
        "id": "FrK7X6GOcdax"
      },
      "outputs": [],
      "source": [
        "import torch\n",
        "import torch.nn as nn\n",
        "import torch.nn.functional as F\n",
        "from torch.utils.data import TensorDataset\n",
        "import torch.optim as optim\n",
        "import torchvision\n",
        "from torchvision import datasets\n",
        "import torchvision.transforms as transforms\n",
        "import matplotlib.pyplot as plt\n",
        "from tqdm import tqdm"
      ]
    },
    {
      "cell_type": "code",
      "execution_count": null,
      "metadata": {
        "colab": {
          "base_uri": "https://localhost:8080/"
        },
        "id": "GDET76aXcdax",
        "outputId": "9557ad1b-9d99-44d1-b001-7dc98faa2123"
      },
      "outputs": [
        {
          "output_type": "execute_result",
          "data": {
            "text/plain": [
              "True"
            ]
          },
          "metadata": {},
          "execution_count": 5
        }
      ],
      "source": [
        "torch.cuda.is_available()"
      ]
    },
    {
      "cell_type": "code",
      "execution_count": null,
      "metadata": {
        "colab": {
          "base_uri": "https://localhost:8080/"
        },
        "id": "b-yCXtumcdax",
        "outputId": "ded7a80e-d4cd-4a6f-c497-164703a5c413"
      },
      "outputs": [
        {
          "output_type": "execute_result",
          "data": {
            "text/plain": [
              "1"
            ]
          },
          "metadata": {},
          "execution_count": 6
        }
      ],
      "source": [
        "torch.cuda.device_count()"
      ]
    },
    {
      "cell_type": "code",
      "execution_count": null,
      "metadata": {
        "colab": {
          "base_uri": "https://localhost:8080/"
        },
        "id": "tMLzTAoBcdax",
        "outputId": "232dcf98-2e8c-49b1-e410-e86c8fc789a8"
      },
      "outputs": [
        {
          "output_type": "stream",
          "name": "stdout",
          "text": [
            "cuda:0\n"
          ]
        }
      ],
      "source": [
        "device = torch.device(\"cuda:0\" if torch.cuda.is_available() else \"cpu\")\n",
        "print(device)\n"
      ]
    },
    {
      "cell_type": "code",
      "execution_count": null,
      "metadata": {
        "colab": {
          "base_uri": "https://localhost:8080/"
        },
        "id": "ukzeCOMQcday",
        "outputId": "a43dd3f0-999a-42b3-9fc0-806e3f83f76d"
      },
      "outputs": [
        {
          "output_type": "stream",
          "name": "stdout",
          "text": [
            "Looking in links: https://download.pytorch.org/whl/cu111/torch_stable.html\n",
            "Requirement already satisfied: torch in /usr/local/lib/python3.10/dist-packages (2.0.1+cu118)\n",
            "Requirement already satisfied: torchvision in /usr/local/lib/python3.10/dist-packages (0.15.2+cu118)\n",
            "Requirement already satisfied: torchaudio in /usr/local/lib/python3.10/dist-packages (2.0.2+cu118)\n",
            "Requirement already satisfied: filelock in /usr/local/lib/python3.10/dist-packages (from torch) (3.12.2)\n",
            "Requirement already satisfied: typing-extensions in /usr/local/lib/python3.10/dist-packages (from torch) (4.5.0)\n",
            "Requirement already satisfied: sympy in /usr/local/lib/python3.10/dist-packages (from torch) (1.12)\n",
            "Requirement already satisfied: networkx in /usr/local/lib/python3.10/dist-packages (from torch) (3.1)\n",
            "Requirement already satisfied: jinja2 in /usr/local/lib/python3.10/dist-packages (from torch) (3.1.2)\n",
            "Requirement already satisfied: triton==2.0.0 in /usr/local/lib/python3.10/dist-packages (from torch) (2.0.0)\n",
            "Requirement already satisfied: cmake in /usr/local/lib/python3.10/dist-packages (from triton==2.0.0->torch) (3.27.4.1)\n",
            "Requirement already satisfied: lit in /usr/local/lib/python3.10/dist-packages (from triton==2.0.0->torch) (16.0.6)\n",
            "Requirement already satisfied: numpy in /usr/local/lib/python3.10/dist-packages (from torchvision) (1.23.5)\n",
            "Requirement already satisfied: requests in /usr/local/lib/python3.10/dist-packages (from torchvision) (2.31.0)\n",
            "Requirement already satisfied: pillow!=8.3.*,>=5.3.0 in /usr/local/lib/python3.10/dist-packages (from torchvision) (9.4.0)\n",
            "Requirement already satisfied: MarkupSafe>=2.0 in /usr/local/lib/python3.10/dist-packages (from jinja2->torch) (2.1.3)\n",
            "Requirement already satisfied: charset-normalizer<4,>=2 in /usr/local/lib/python3.10/dist-packages (from requests->torchvision) (3.2.0)\n",
            "Requirement already satisfied: idna<4,>=2.5 in /usr/local/lib/python3.10/dist-packages (from requests->torchvision) (3.4)\n",
            "Requirement already satisfied: urllib3<3,>=1.21.1 in /usr/local/lib/python3.10/dist-packages (from requests->torchvision) (2.0.4)\n",
            "Requirement already satisfied: certifi>=2017.4.17 in /usr/local/lib/python3.10/dist-packages (from requests->torchvision) (2023.7.22)\n",
            "Requirement already satisfied: mpmath>=0.19 in /usr/local/lib/python3.10/dist-packages (from sympy->torch) (1.3.0)\n"
          ]
        }
      ],
      "source": [
        "pip install torch torchvision torchaudio -f https://download.pytorch.org/whl/cu111/torch_stable.html"
      ]
    },
    {
      "cell_type": "code",
      "execution_count": null,
      "metadata": {
        "id": "v0rUsuepcday"
      },
      "outputs": [],
      "source": [
        "import torch\n",
        "\n",
        "# Create a tensor on the CPU\n",
        "x = torch.randn(3, 3)\n",
        "\n",
        "# Move the tensor to the GPU\n",
        "device = torch.device(\"cuda\" if torch.cuda.is_available() else \"cpu\")\n",
        "x = x.to(device)"
      ]
    },
    {
      "cell_type": "code",
      "execution_count": null,
      "metadata": {
        "colab": {
          "base_uri": "https://localhost:8080/"
        },
        "id": "RXRSo3KG4Baz",
        "outputId": "f0c0686f-7111-4ba1-92a8-d90a1155a5c9"
      },
      "outputs": [
        {
          "output_type": "stream",
          "name": "stdout",
          "text": [
            "Cloning into 'ultralytics'...\n",
            "remote: Enumerating objects: 16008, done.\u001b[K\n",
            "remote: Counting objects: 100% (638/638), done.\u001b[K\n",
            "remote: Compressing objects: 100% (411/411), done.\u001b[K\n",
            "remote: Total 16008 (delta 380), reused 379 (delta 225), pack-reused 15370\u001b[K\n",
            "Receiving objects: 100% (16008/16008), 8.67 MiB | 15.11 MiB/s, done.\n",
            "Resolving deltas: 100% (11010/11010), done.\n"
          ]
        }
      ],
      "source": [
        "!git clone https://github.com/ultralytics/ultralytics"
      ]
    },
    {
      "cell_type": "markdown",
      "metadata": {
        "id": "0eq1SMWl6Sfn"
      },
      "source": [
        "# 2. Val\n",
        "Validate a model's accuracy on the [COCO](https://cocodataset.org/#home) dataset's `val` or `test` splits. The latest YOLOv8 [models](https://github.com/ultralytics/ultralytics#models) are downloaded automatically the first time they are used. See [YOLOv8 Val Docs](https://docs.ultralytics.com/modes/val/) for more information."
      ]
    },
    {
      "cell_type": "code",
      "execution_count": null,
      "metadata": {
        "colab": {
          "base_uri": "https://localhost:8080/"
        },
        "id": "WQPtK1QYVaD_",
        "outputId": "e15fe384-a578-4709-95e1-7facd24044c6"
      },
      "outputs": [
        {
          "output_type": "stream",
          "name": "stderr",
          "text": [
            "100%|██████████| 780M/780M [00:15<00:00, 54.3MB/s]\n"
          ]
        }
      ],
      "source": [
        "# Download COCO val\n",
        "import torch\n",
        "torch.hub.download_url_to_file('https://ultralytics.com/assets/coco2017val.zip', 'tmp.zip')  # download (780M - 5000 images)\n",
        "!unzip -q tmp.zip -d datasets && rm tmp.zip  # unzip"
      ]
    },
    {
      "cell_type": "code",
      "execution_count": null,
      "metadata": {
        "colab": {
          "base_uri": "https://localhost:8080/"
        },
        "id": "X58w8JLpMnjH",
        "outputId": "f0669e6a-8cc0-4ff9-8cea-c2570746c319"
      },
      "outputs": [
        {
          "output_type": "stream",
          "name": "stdout",
          "text": [
            "Ultralytics YOLOv8.0.180 🚀 Python-3.10.12 torch-2.0.1+cu118 CUDA:0 (Tesla T4, 15102MiB)\n",
            "Model summary (fused): 168 layers, 3151904 parameters, 0 gradients\n",
            "\n",
            "Dataset 'coco128.yaml' images not found ⚠️, missing path '/content/datasets/coco128/images/train2017'\n",
            "Downloading https://ultralytics.com/assets/coco128.zip to '/content/datasets/coco128.zip'...\n",
            "100% 6.66M/6.66M [00:00<00:00, 7.96MB/s]\n",
            "Unzipping /content/datasets/coco128.zip to /content/datasets/coco128...: 100% 263/263 [00:00<00:00, 4444.68file/s]\n",
            "Dataset download success ✅ (2.7s), saved to \u001b[1m/content/datasets\u001b[0m\n",
            "\n",
            "Downloading https://ultralytics.com/assets/Arial.ttf to '/root/.config/Ultralytics/Arial.ttf'...\n",
            "100% 755k/755k [00:00<00:00, 5.48MB/s]\n",
            "\u001b[34m\u001b[1mval: \u001b[0mScanning /content/datasets/coco128/labels/train2017... 126 images, 2 backgrounds, 0 corrupt: 100% 128/128 [00:00<00:00, 1951.67it/s]\n",
            "\u001b[34m\u001b[1mval: \u001b[0mNew cache created: /content/datasets/coco128/labels/train2017.cache\n",
            "                 Class     Images  Instances      Box(P          R      mAP50  mAP50-95): 100% 8/8 [00:08<00:00,  1.08s/it]\n",
            "                   all        128        929      0.896       0.83      0.895      0.745\n",
            "                person        128        254      0.975      0.758      0.889      0.717\n",
            "               bicycle        128          6      0.709        0.5      0.616      0.503\n",
            "                   car        128         46      0.889      0.349      0.633      0.365\n",
            "            motorcycle        128          5       0.93          1      0.995      0.942\n",
            "              airplane        128          6      0.954          1      0.995      0.943\n",
            "                   bus        128          7          1      0.819      0.944       0.81\n",
            "                 train        128          3      0.904          1      0.995      0.882\n",
            "                 truck        128         12      0.887        0.5      0.625      0.499\n",
            "                  boat        128          6          1      0.743      0.857        0.6\n",
            "         traffic light        128         14          1      0.331      0.451      0.271\n",
            "             stop sign        128          2      0.846          1      0.995      0.821\n",
            "                 bench        128          9      0.982      0.889      0.968      0.843\n",
            "                  bird        128         16      0.997          1      0.995      0.808\n",
            "                   cat        128          4      0.886          1      0.995      0.995\n",
            "                   dog        128          9      0.965          1      0.995      0.916\n",
            "                 horse        128          2      0.846          1      0.995      0.898\n",
            "              elephant        128         17      0.989      0.941      0.985      0.873\n",
            "                  bear        128          1          1          1      0.995      0.995\n",
            "                 zebra        128          4      0.907          1      0.995      0.995\n",
            "               giraffe        128          9      0.958          1      0.995      0.922\n",
            "              backpack        128          6      0.786        0.5       0.74      0.638\n",
            "              umbrella        128         18      0.967      0.944      0.988       0.84\n",
            "               handbag        128         19      0.905      0.505      0.692      0.501\n",
            "                   tie        128          7      0.977      0.857       0.86      0.754\n",
            "              suitcase        128          4          1      0.981      0.995      0.828\n",
            "               frisbee        128          5      0.868        0.8      0.802      0.717\n",
            "                  skis        128          1      0.771          1      0.995      0.796\n",
            "             snowboard        128          7      0.917          1      0.995      0.807\n",
            "           sports ball        128          6          1       0.47      0.676      0.413\n",
            "                  kite        128         10          1      0.372      0.768      0.387\n",
            "          baseball bat        128          4      0.788        0.5      0.808      0.435\n",
            "        baseball glove        128          7      0.911      0.429      0.436       0.36\n",
            "            skateboard        128          5      0.819      0.916      0.962      0.686\n",
            "         tennis racket        128          7      0.939      0.714      0.718      0.513\n",
            "                bottle        128         18      0.902       0.51      0.837      0.543\n",
            "            wine glass        128         16      0.811      0.537      0.798       0.56\n",
            "                   cup        128         36          1      0.736       0.92      0.692\n",
            "                  fork        128          6      0.942      0.833      0.873      0.709\n",
            "                 knife        128         16       0.88      0.688      0.847       0.51\n",
            "                 spoon        128         22      0.931      0.613      0.761      0.588\n",
            "                  bowl        128         28      0.959       0.83      0.864      0.753\n",
            "                banana        128          1      0.765          1      0.995      0.895\n",
            "              sandwich        128          2      0.566          1      0.995      0.995\n",
            "                orange        128          4      0.821          1      0.995      0.871\n",
            "              broccoli        128         11      0.772      0.455      0.638      0.473\n",
            "                carrot        128         24      0.915      0.897       0.96      0.734\n",
            "               hot dog        128          2      0.836          1      0.995      0.995\n",
            "                 pizza        128          5      0.921          1      0.995      0.916\n",
            "                 donut        128         14      0.914          1      0.995      0.932\n",
            "                  cake        128          4      0.901          1      0.995      0.923\n",
            "                 chair        128         35      0.895      0.735      0.912      0.719\n",
            "                 couch        128          6          1      0.954      0.995      0.806\n",
            "          potted plant        128         14      0.967          1      0.995      0.892\n",
            "                   bed        128          3      0.879          1      0.995      0.952\n",
            "          dining table        128         13      0.963          1      0.995      0.873\n",
            "                toilet        128          2      0.837          1      0.995      0.921\n",
            "                    tv        128          2      0.845          1      0.995      0.995\n",
            "                laptop        128          3      0.871          1      0.995      0.898\n",
            "                 mouse        128          2          1      0.858      0.995      0.401\n",
            "                remote        128          8      0.914       0.75      0.751      0.648\n",
            "            cell phone        128          8          1       0.61      0.653      0.465\n",
            "             microwave        128          3      0.892          1      0.995      0.868\n",
            "                  oven        128          5      0.778      0.713      0.761      0.666\n",
            "                  sink        128          6      0.713          1      0.972      0.671\n",
            "          refrigerator        128          5      0.884          1      0.995      0.924\n",
            "                  book        128         29          1      0.534      0.811      0.576\n",
            "                 clock        128          9      0.944      0.889      0.968      0.828\n",
            "                  vase        128          2      0.801          1      0.995      0.921\n",
            "              scissors        128          1      0.595          1      0.995      0.796\n",
            "            teddy bear        128         21       0.88      0.952      0.983       0.77\n",
            "            toothbrush        128          5      0.885          1      0.995      0.906\n",
            "Speed: 3.0ms preprocess, 12.1ms inference, 0.0ms loss, 8.9ms postprocess per image\n",
            "Results saved to \u001b[1mruns/detect/val\u001b[0m\n",
            "💡 Learn more at https://docs.ultralytics.com/modes/val\n"
          ]
        }
      ],
      "source": [
        "# Validate YOLOv8n on COCO128 val\n",
        "!yolo val model=/content/bestcoco100.pt data= coco128.yaml"
      ]
    },
    {
      "cell_type": "code",
      "source": [
        "!yolo val model=/content/bestcoco150.pt data= coco128.yaml"
      ],
      "metadata": {
        "colab": {
          "base_uri": "https://localhost:8080/"
        },
        "id": "DdXzuTxmfHNw",
        "outputId": "2e0a398e-422d-46d5-d829-5cd3110168d5"
      },
      "execution_count": null,
      "outputs": [
        {
          "output_type": "stream",
          "name": "stdout",
          "text": [
            "Ultralytics YOLOv8.0.180 🚀 Python-3.10.12 torch-2.0.1+cu118 CUDA:0 (Tesla T4, 15102MiB)\n",
            "Model summary (fused): 168 layers, 3151904 parameters, 0 gradients\n",
            "\u001b[34m\u001b[1mval: \u001b[0mScanning /content/datasets/coco128/labels/train2017.cache... 126 images, 2 backgrounds, 0 corrupt: 100% 128/128 [00:00<?, ?it/s]\n",
            "                 Class     Images  Instances      Box(P          R      mAP50  mAP50-95): 100% 8/8 [00:07<00:00,  1.05it/s]\n",
            "                   all        128        929      0.897      0.861      0.914      0.773\n",
            "                person        128        254      0.975       0.77      0.906      0.742\n",
            "               bicycle        128          6      0.863      0.667      0.812      0.526\n",
            "                   car        128         46      0.953      0.441      0.696      0.389\n",
            "            motorcycle        128          5      0.925          1      0.995      0.949\n",
            "              airplane        128          6      0.945          1      0.995      0.975\n",
            "                   bus        128          7          1      0.887      0.995       0.85\n",
            "                 train        128          3      0.905          1      0.995      0.869\n",
            "                 truck        128         12      0.873        0.5      0.701      0.539\n",
            "                  boat        128          6      0.818      0.833      0.847      0.635\n",
            "         traffic light        128         14          1      0.334      0.462      0.283\n",
            "             stop sign        128          2      0.838          1      0.995      0.946\n",
            "                 bench        128          9      0.938      0.889      0.975      0.855\n",
            "                  bird        128         16          1      0.993      0.995       0.84\n",
            "                   cat        128          4      0.906          1      0.995      0.995\n",
            "                   dog        128          9      0.954          1      0.995      0.911\n",
            "                 horse        128          2      0.847          1      0.995      0.947\n",
            "              elephant        128         17      0.893          1      0.995      0.917\n",
            "                  bear        128          1      0.758          1      0.995      0.995\n",
            "                 zebra        128          4      0.906          1      0.995      0.995\n",
            "               giraffe        128          9      0.959          1      0.995      0.972\n",
            "              backpack        128          6       0.85      0.667       0.84      0.682\n",
            "              umbrella        128         18      0.961          1      0.995      0.879\n",
            "               handbag        128         19          1      0.627      0.764       0.57\n",
            "                   tie        128          7      0.956      0.857      0.862      0.776\n",
            "              suitcase        128          4      0.955          1      0.995      0.848\n",
            "               frisbee        128          5      0.888        0.8      0.802      0.742\n",
            "                  skis        128          1      0.729          1      0.995      0.796\n",
            "             snowboard        128          7      0.862        0.9      0.978      0.885\n",
            "           sports ball        128          6          1      0.638      0.674      0.449\n",
            "                  kite        128         10          1      0.597      0.823      0.407\n",
            "          baseball bat        128          4      0.877       0.75      0.912      0.485\n",
            "        baseball glove        128          7        0.9      0.429      0.437      0.366\n",
            "            skateboard        128          5      0.876        0.8      0.962      0.717\n",
            "         tennis racket        128          7      0.932      0.714      0.718      0.527\n",
            "                bottle        128         18      0.868      0.611      0.851      0.581\n",
            "            wine glass        128         16      0.884      0.625      0.835      0.588\n",
            "                   cup        128         36          1      0.774      0.926       0.69\n",
            "                  fork        128          6          1      0.906      0.995      0.848\n",
            "                 knife        128         16      0.884       0.75      0.844      0.577\n",
            "                 spoon        128         22      0.886      0.707      0.801      0.613\n",
            "                  bowl        128         28          1      0.846      0.915      0.785\n",
            "                banana        128          1      0.758          1      0.995      0.895\n",
            "              sandwich        128          2      0.599          1      0.995      0.995\n",
            "                orange        128          4      0.877          1      0.995      0.897\n",
            "              broccoli        128         11      0.926      0.636      0.759      0.564\n",
            "                carrot        128         24          1      0.904      0.978      0.758\n",
            "               hot dog        128          2      0.835          1      0.995      0.995\n",
            "                 pizza        128          5      0.909          1      0.995      0.977\n",
            "                 donut        128         14       0.93          1      0.995      0.956\n",
            "                  cake        128          4      0.907          1      0.995      0.972\n",
            "                 chair        128         35       0.93      0.762      0.965      0.795\n",
            "                 couch        128          6      0.859          1      0.995      0.833\n",
            "          potted plant        128         14      0.972          1      0.995      0.889\n",
            "                   bed        128          3      0.884          1      0.995      0.995\n",
            "          dining table        128         13      0.943          1      0.995      0.885\n",
            "                toilet        128          2      0.836          1      0.995      0.898\n",
            "                    tv        128          2      0.839          1      0.995      0.995\n",
            "                laptop        128          3      0.864          1      0.995      0.898\n",
            "                 mouse        128          2      0.815          1      0.995      0.252\n",
            "                remote        128          8      0.923       0.75      0.752      0.668\n",
            "            cell phone        128          8          1      0.601      0.719       0.53\n",
            "             microwave        128          3      0.872          1      0.995      0.867\n",
            "                  oven        128          5       0.79      0.759      0.763      0.669\n",
            "                  sink        128          6      0.614          1      0.995      0.761\n",
            "          refrigerator        128          5      0.914          1      0.995      0.961\n",
            "                  book        128         29      0.891      0.483      0.826      0.604\n",
            "                 clock        128          9          1      0.955      0.995      0.859\n",
            "                  vase        128          2      0.787          1      0.995      0.921\n",
            "              scissors        128          1       0.75          1      0.995      0.895\n",
            "            teddy bear        128         21      0.942          1      0.993      0.832\n",
            "            toothbrush        128          5      0.932          1      0.995      0.956\n",
            "Speed: 3.9ms preprocess, 13.3ms inference, 0.0ms loss, 8.5ms postprocess per image\n",
            "Results saved to \u001b[1mruns/detect/val2\u001b[0m\n",
            "💡 Learn more at https://docs.ultralytics.com/modes/val\n"
          ]
        }
      ]
    },
    {
      "cell_type": "code",
      "source": [
        "!yolo val model=/content/bestcoco200.pt data= coco128.yaml"
      ],
      "metadata": {
        "colab": {
          "base_uri": "https://localhost:8080/"
        },
        "id": "q76M727XfHRB",
        "outputId": "885d93aa-0f75-456c-8ed0-024a18c5b768"
      },
      "execution_count": null,
      "outputs": [
        {
          "output_type": "stream",
          "name": "stdout",
          "text": [
            "Ultralytics YOLOv8.0.180 🚀 Python-3.10.12 torch-2.0.1+cu118 CUDA:0 (Tesla T4, 15102MiB)\n",
            "Model summary (fused): 168 layers, 3151904 parameters, 0 gradients\n",
            "\u001b[34m\u001b[1mval: \u001b[0mScanning /content/datasets/coco128/labels/train2017.cache... 126 images, 2 backgrounds, 0 corrupt: 100% 128/128 [00:00<?, ?it/s]\n",
            "                 Class     Images  Instances      Box(P          R      mAP50  mAP50-95): 100% 8/8 [00:06<00:00,  1.18it/s]\n",
            "                   all        128        929      0.909      0.868       0.92      0.796\n",
            "                person        128        254       0.99       0.78      0.912      0.766\n",
            "               bicycle        128          6      0.687        0.5      0.622      0.488\n",
            "                   car        128         46          1      0.388       0.71        0.4\n",
            "            motorcycle        128          5       0.92          1      0.995      0.995\n",
            "              airplane        128          6      0.954          1      0.995      0.965\n",
            "                   bus        128          7          1      0.924      0.995      0.845\n",
            "                 train        128          3      0.922          1      0.995      0.964\n",
            "                 truck        128         12      0.872        0.5      0.826      0.603\n",
            "                  boat        128          6      0.792      0.833      0.839       0.62\n",
            "         traffic light        128         14      0.834      0.358       0.49      0.307\n",
            "             stop sign        128          2      0.863          1      0.995      0.921\n",
            "                 bench        128          9      0.924      0.889      0.984      0.868\n",
            "                  bird        128         16      0.996          1      0.995      0.835\n",
            "                   cat        128          4      0.917          1      0.995      0.995\n",
            "                   dog        128          9      0.956          1      0.995      0.946\n",
            "                 horse        128          2      0.864          1      0.995      0.995\n",
            "              elephant        128         17          1      0.987      0.995      0.944\n",
            "                  bear        128          1          1          1      0.995      0.995\n",
            "                 zebra        128          4      0.914          1      0.995      0.995\n",
            "               giraffe        128          9      0.964          1      0.995      0.976\n",
            "              backpack        128          6      0.903      0.833      0.877      0.736\n",
            "              umbrella        128         18      0.902      0.944      0.988      0.899\n",
            "               handbag        128         19      0.869      0.737      0.764      0.583\n",
            "                   tie        128          7      0.926      0.857      0.861      0.812\n",
            "              suitcase        128          4      0.953          1      0.995      0.922\n",
            "               frisbee        128          5      0.905        0.8      0.803      0.718\n",
            "                  skis        128          1      0.753          1      0.995      0.895\n",
            "             snowboard        128          7      0.818      0.857      0.872      0.817\n",
            "           sports ball        128          6          1      0.634      0.676      0.442\n",
            "                  kite        128         10          1      0.436      0.849      0.422\n",
            "          baseball bat        128          4      0.896       0.75      0.945      0.551\n",
            "        baseball glove        128          7       0.91      0.429       0.44      0.368\n",
            "            skateboard        128          5          1      0.898      0.995      0.714\n",
            "         tennis racket        128          7      0.965      0.714      0.788      0.593\n",
            "                bottle        128         18      0.831        0.5      0.801       0.61\n",
            "            wine glass        128         16      0.848      0.696      0.881      0.607\n",
            "                   cup        128         36          1      0.841      0.949      0.715\n",
            "                  fork        128          6          1      0.932      0.995       0.88\n",
            "                 knife        128         16      0.862      0.812      0.844      0.576\n",
            "                 spoon        128         22      0.941      0.727      0.814      0.648\n",
            "                  bowl        128         28       0.96      0.852      0.915      0.799\n",
            "                banana        128          1      0.781          1      0.995      0.995\n",
            "              sandwich        128          2      0.829          1      0.995      0.995\n",
            "                orange        128          4      0.904          1      0.995      0.897\n",
            "              broccoli        128         11      0.786      0.636      0.775      0.566\n",
            "                carrot        128         24      0.956      0.912      0.936      0.762\n",
            "               hot dog        128          2      0.847          1      0.995      0.995\n",
            "                 pizza        128          5      0.923          1      0.995      0.965\n",
            "                 donut        128         14      0.965          1      0.995      0.984\n",
            "                  cake        128          4      0.912          1      0.995      0.972\n",
            "                 chair        128         35      0.967      0.833      0.976      0.812\n",
            "                 couch        128          6          1      0.996      0.995      0.869\n",
            "          potted plant        128         14      0.974          1      0.995      0.902\n",
            "                   bed        128          3      0.889          1      0.995      0.995\n",
            "          dining table        128         13      0.929          1      0.995      0.884\n",
            "                toilet        128          2      0.868          1      0.995      0.898\n",
            "                    tv        128          2      0.856          1      0.995      0.995\n",
            "                laptop        128          3      0.885          1      0.995       0.93\n",
            "                 mouse        128          2      0.833          1      0.995       0.45\n",
            "                remote        128          8      0.921       0.75      0.752      0.675\n",
            "            cell phone        128          8          1      0.619      0.862      0.639\n",
            "             microwave        128          3      0.874          1      0.995        0.9\n",
            "                  oven        128          5      0.812          1      0.928      0.781\n",
            "                  sink        128          6       0.82          1      0.995      0.753\n",
            "          refrigerator        128          5      0.926          1      0.995      0.995\n",
            "                  book        128         29          1      0.513      0.827      0.629\n",
            "                 clock        128          9          1      0.974      0.995      0.852\n",
            "                  vase        128          2      0.834          1      0.995      0.921\n",
            "              scissors        128          1      0.759          1      0.995      0.895\n",
            "            teddy bear        128         21      0.953      0.966      0.993      0.878\n",
            "            toothbrush        128          5      0.932          1      0.995      0.972\n",
            "Speed: 0.2ms preprocess, 8.4ms inference, 0.0ms loss, 2.2ms postprocess per image\n",
            "Results saved to \u001b[1mruns/detect/val3\u001b[0m\n",
            "💡 Learn more at https://docs.ultralytics.com/modes/val\n"
          ]
        }
      ]
    },
    {
      "cell_type": "code",
      "source": [
        "!yolo val model=/content/bestcoco50.pt data= coco128.yaml"
      ],
      "metadata": {
        "colab": {
          "base_uri": "https://localhost:8080/"
        },
        "id": "ZJS9TQKwfHnk",
        "outputId": "a378edca-e392-438c-8969-e9924baf7abf"
      },
      "execution_count": null,
      "outputs": [
        {
          "output_type": "stream",
          "name": "stdout",
          "text": [
            "Ultralytics YOLOv8.0.180 🚀 Python-3.10.12 torch-2.0.1+cu118 CUDA:0 (Tesla T4, 15102MiB)\n",
            "Model summary (fused): 168 layers, 3151904 parameters, 0 gradients\n",
            "\u001b[34m\u001b[1mval: \u001b[0mScanning /content/datasets/coco128/labels/train2017.cache... 126 images, 2 backgrounds, 0 corrupt: 100% 128/128 [00:00<?, ?it/s]\n",
            "                 Class     Images  Instances      Box(P          R      mAP50  mAP50-95): 100% 8/8 [00:07<00:00,  1.09it/s]\n",
            "                   all        128        929      0.891      0.758      0.849       0.68\n",
            "                person        128        254      0.988      0.666      0.863      0.662\n",
            "               bicycle        128          6      0.846        0.5      0.653      0.485\n",
            "                   car        128         46      0.925      0.269      0.581      0.333\n",
            "            motorcycle        128          5          1      0.954      0.995      0.904\n",
            "              airplane        128          6      0.969          1      0.995      0.934\n",
            "                   bus        128          7      0.936      0.714      0.858      0.726\n",
            "                 train        128          3      0.935          1      0.995      0.768\n",
            "                 truck        128         12      0.863        0.5      0.625      0.477\n",
            "                  boat        128          6          1      0.439      0.815      0.549\n",
            "         traffic light        128         14          1      0.257      0.369      0.207\n",
            "             stop sign        128          2      0.882          1      0.995      0.796\n",
            "                 bench        128          9          1      0.738      0.937      0.743\n",
            "                  bird        128         16      0.996          1      0.995      0.758\n",
            "                   cat        128          4       0.88          1      0.995      0.938\n",
            "                   dog        128          9      0.972          1      0.995      0.844\n",
            "                 horse        128          2      0.884          1      0.995      0.896\n",
            "              elephant        128         17          1      0.915      0.959       0.85\n",
            "                  bear        128          1      0.786          1      0.995      0.995\n",
            "                 zebra        128          4      0.921          1      0.995      0.956\n",
            "               giraffe        128          9      0.994          1      0.995      0.908\n",
            "              backpack        128          6      0.706        0.5      0.612      0.439\n",
            "              umbrella        128         18      0.913      0.944      0.959      0.797\n",
            "               handbag        128         19      0.899      0.467      0.596      0.393\n",
            "                   tie        128          7      0.957      0.857      0.859      0.702\n",
            "              suitcase        128          4      0.966          1      0.995      0.694\n",
            "               frisbee        128          5      0.939        0.8      0.801      0.702\n",
            "                  skis        128          1      0.929          1      0.995      0.697\n",
            "             snowboard        128          7       0.58      0.857      0.852      0.716\n",
            "           sports ball        128          6          1      0.412      0.672       0.38\n",
            "                  kite        128         10      0.738        0.2      0.615      0.275\n",
            "          baseball bat        128          4      0.771        0.5      0.547      0.325\n",
            "        baseball glove        128          7      0.953      0.429      0.434       0.32\n",
            "            skateboard        128          5          1      0.751      0.828      0.605\n",
            "         tennis racket        128          7       0.81      0.615      0.695      0.428\n",
            "                bottle        128         18          1      0.355      0.743      0.478\n",
            "            wine glass        128         16      0.883      0.438      0.888      0.551\n",
            "                   cup        128         36      0.949      0.517      0.822      0.584\n",
            "                  fork        128          6      0.934        0.5      0.756      0.544\n",
            "                 knife        128         16       0.86      0.625      0.778      0.486\n",
            "                 spoon        128         22       0.89      0.368       0.65      0.452\n",
            "                  bowl        128         28          1      0.801      0.862      0.719\n",
            "                banana        128          1      0.919          1      0.995      0.796\n",
            "              sandwich        128          2      0.496          1      0.995      0.995\n",
            "                orange        128          4      0.764          1      0.995      0.657\n",
            "              broccoli        128         11      0.876      0.364      0.499      0.379\n",
            "                carrot        128         24      0.946      0.727      0.886      0.664\n",
            "               hot dog        128          2      0.861          1      0.995      0.995\n",
            "                 pizza        128          5      0.935          1      0.995      0.952\n",
            "                 donut        128         14      0.761          1      0.995       0.93\n",
            "                  cake        128          4      0.929          1      0.995       0.91\n",
            "                 chair        128         35      0.922      0.676      0.852      0.632\n",
            "                 couch        128          6      0.945      0.833      0.922       0.77\n",
            "          potted plant        128         14      0.945      0.786       0.95      0.738\n",
            "                   bed        128          3      0.899          1      0.995       0.93\n",
            "          dining table        128         13          1       0.76      0.912      0.767\n",
            "                toilet        128          2      0.853          1      0.995      0.848\n",
            "                    tv        128          2      0.867          1      0.995      0.946\n",
            "                laptop        128          3      0.867          1      0.995      0.863\n",
            "                 mouse        128          2       0.89        0.5      0.502      0.351\n",
            "                remote        128          8      0.996       0.75      0.749      0.645\n",
            "            cell phone        128          8      0.669       0.25      0.518      0.371\n",
            "             microwave        128          3          1      0.923      0.995      0.817\n",
            "                  oven        128          5      0.748        0.6      0.552      0.522\n",
            "                  sink        128          6      0.684      0.667       0.81      0.591\n",
            "          refrigerator        128          5      0.905          1      0.995      0.902\n",
            "                  book        128         29       0.85       0.39      0.721      0.475\n",
            "                 clock        128          9      0.953      0.889      0.947      0.806\n",
            "                  vase        128          2      0.857          1      0.995      0.921\n",
            "              scissors        128          1      0.557          1      0.995      0.597\n",
            "            teddy bear        128         21      0.945      0.821      0.951      0.715\n",
            "            toothbrush        128          5      0.955          1      0.995      0.799\n",
            "Speed: 2.5ms preprocess, 13.1ms inference, 0.0ms loss, 7.0ms postprocess per image\n",
            "Results saved to \u001b[1mruns/detect/val4\u001b[0m\n",
            "💡 Learn more at https://docs.ultralytics.com/modes/val\n"
          ]
        }
      ]
    },
    {
      "cell_type": "markdown",
      "metadata": {
        "id": "ZY2VXXXu74w5"
      },
      "source": [
        "# 3. Train\n",
        "\n",
        "<p align=\"\"><a href=\"https://bit.ly/ultralytics_hub\"><img width=\"1000\" src=\"https://github.com/ultralytics/assets/raw/main/yolov8/banner-integrations.png\"/></a></p>\n",
        "\n",
        "Train YOLOv8 on [Detect](https://docs.ultralytics.com/tasks/detect/), [Segment](https://docs.ultralytics.com/tasks/segment/), [Classify](https://docs.ultralytics.com/tasks/classify/) and [Pose](https://docs.ultralytics.com/tasks/pose/) datasets. See [YOLOv8 Train Docs](https://docs.ultralytics.com/modes/train/) for more information."
      ]
    },
    {
      "cell_type": "code",
      "execution_count": null,
      "metadata": {
        "colab": {
          "base_uri": "https://localhost:8080/"
        },
        "id": "1NcFxRcFdJ_O",
        "outputId": "0645a27a-73d2-4254-808f-77b6377a50fc"
      },
      "outputs": [
        {
          "output_type": "stream",
          "name": "stdout",
          "text": [
            "Ultralytics YOLOv8.0.180 🚀 Python-3.10.12 torch-2.0.1+cu118 CUDA:0 (Tesla T4, 15102MiB)\n",
            "\u001b[34m\u001b[1mengine/trainer: \u001b[0mtask=detect, mode=train, model=/content/yolov8n.pt, data=coco128.yaml, epochs=50, patience=50, batch=16, imgsz=640, save=True, save_period=-1, cache=False, device=None, workers=8, project=None, name=None, exist_ok=False, pretrained=True, optimizer=auto, verbose=True, seed=0, deterministic=True, single_cls=False, rect=False, cos_lr=False, close_mosaic=10, resume=False, amp=True, fraction=1.0, profile=False, freeze=None, overlap_mask=True, mask_ratio=4, dropout=0.0, val=True, split=val, save_json=False, save_hybrid=False, conf=None, iou=0.7, max_det=300, half=False, dnn=False, plots=True, source=None, show=False, save_txt=False, save_conf=False, save_crop=False, show_labels=True, show_conf=True, vid_stride=1, stream_buffer=False, line_width=None, visualize=False, augment=False, agnostic_nms=False, classes=None, retina_masks=False, boxes=True, format=torchscript, keras=False, optimize=False, int8=False, dynamic=False, simplify=False, opset=None, workspace=4, nms=False, lr0=0.01, lrf=0.01, momentum=0.937, weight_decay=0.0005, warmup_epochs=3.0, warmup_momentum=0.8, warmup_bias_lr=0.1, box=7.5, cls=0.5, dfl=1.5, pose=12.0, kobj=1.0, label_smoothing=0.0, nbs=64, hsv_h=0.015, hsv_s=0.7, hsv_v=0.4, degrees=0.0, translate=0.1, scale=0.5, shear=0.0, perspective=0.0, flipud=0.0, fliplr=0.5, mosaic=1.0, mixup=0.0, copy_paste=0.0, cfg=None, tracker=botsort.yaml, save_dir=runs/detect/train3\n",
            "\n",
            "                   from  n    params  module                                       arguments                     \n",
            "  0                  -1  1       464  ultralytics.nn.modules.conv.Conv             [3, 16, 3, 2]                 \n",
            "  1                  -1  1      4672  ultralytics.nn.modules.conv.Conv             [16, 32, 3, 2]                \n",
            "  2                  -1  1      7360  ultralytics.nn.modules.block.C2f             [32, 32, 1, True]             \n",
            "  3                  -1  1     18560  ultralytics.nn.modules.conv.Conv             [32, 64, 3, 2]                \n",
            "  4                  -1  2     49664  ultralytics.nn.modules.block.C2f             [64, 64, 2, True]             \n",
            "  5                  -1  1     73984  ultralytics.nn.modules.conv.Conv             [64, 128, 3, 2]               \n",
            "  6                  -1  2    197632  ultralytics.nn.modules.block.C2f             [128, 128, 2, True]           \n",
            "  7                  -1  1    295424  ultralytics.nn.modules.conv.Conv             [128, 256, 3, 2]              \n",
            "  8                  -1  1    460288  ultralytics.nn.modules.block.C2f             [256, 256, 1, True]           \n",
            "  9                  -1  1    164608  ultralytics.nn.modules.block.SPPF            [256, 256, 5]                 \n",
            " 10                  -1  1         0  torch.nn.modules.upsampling.Upsample         [None, 2, 'nearest']          \n",
            " 11             [-1, 6]  1         0  ultralytics.nn.modules.conv.Concat           [1]                           \n",
            " 12                  -1  1    148224  ultralytics.nn.modules.block.C2f             [384, 128, 1]                 \n",
            " 13                  -1  1         0  torch.nn.modules.upsampling.Upsample         [None, 2, 'nearest']          \n",
            " 14             [-1, 4]  1         0  ultralytics.nn.modules.conv.Concat           [1]                           \n",
            " 15                  -1  1     37248  ultralytics.nn.modules.block.C2f             [192, 64, 1]                  \n",
            " 16                  -1  1     36992  ultralytics.nn.modules.conv.Conv             [64, 64, 3, 2]                \n",
            " 17            [-1, 12]  1         0  ultralytics.nn.modules.conv.Concat           [1]                           \n",
            " 18                  -1  1    123648  ultralytics.nn.modules.block.C2f             [192, 128, 1]                 \n",
            " 19                  -1  1    147712  ultralytics.nn.modules.conv.Conv             [128, 128, 3, 2]              \n",
            " 20             [-1, 9]  1         0  ultralytics.nn.modules.conv.Concat           [1]                           \n",
            " 21                  -1  1    493056  ultralytics.nn.modules.block.C2f             [384, 256, 1]                 \n",
            " 22        [15, 18, 21]  1    897664  ultralytics.nn.modules.head.Detect           [80, [64, 128, 256]]          \n",
            "Model summary: 225 layers, 3157200 parameters, 3157184 gradients\n",
            "\n",
            "Transferred 355/355 items from pretrained weights\n",
            "\u001b[34m\u001b[1mTensorBoard: \u001b[0mStart with 'tensorboard --logdir runs/detect/train3', view at http://localhost:6006/\n",
            "Freezing layer 'model.22.dfl.conv.weight'\n",
            "\u001b[34m\u001b[1mAMP: \u001b[0mrunning Automatic Mixed Precision (AMP) checks with YOLOv8n...\n",
            "\u001b[34m\u001b[1mAMP: \u001b[0mchecks passed ✅\n",
            "\u001b[34m\u001b[1mtrain: \u001b[0mScanning /content/datasets/coco128/labels/train2017.cache... 126 images, 2 backgrounds, 0 corrupt: 100% 128/128 [00:00<?, ?it/s]\n",
            "\u001b[34m\u001b[1malbumentations: \u001b[0mBlur(p=0.01, blur_limit=(3, 7)), MedianBlur(p=0.01, blur_limit=(3, 7)), ToGray(p=0.01), CLAHE(p=0.01, clip_limit=(1, 4.0), tile_grid_size=(8, 8))\n",
            "\u001b[34m\u001b[1mval: \u001b[0mScanning /content/datasets/coco128/labels/train2017.cache... 126 images, 2 backgrounds, 0 corrupt: 100% 128/128 [00:00<?, ?it/s]\n",
            "Plotting labels to runs/detect/train3/labels.jpg... \n",
            "\u001b[34m\u001b[1moptimizer:\u001b[0m 'optimizer=auto' found, ignoring 'lr0=0.01' and 'momentum=0.937' and determining best 'optimizer', 'lr0' and 'momentum' automatically... \n",
            "\u001b[34m\u001b[1moptimizer:\u001b[0m AdamW(lr=0.000119, momentum=0.9) with parameter groups 57 weight(decay=0.0), 64 weight(decay=0.0005), 63 bias(decay=0.0)\n",
            "Image sizes 640 train, 640 val\n",
            "Using 2 dataloader workers\n",
            "Logging results to \u001b[1mruns/detect/train3\u001b[0m\n",
            "Starting training for 50 epochs...\n",
            "\n",
            "      Epoch    GPU_mem   box_loss   cls_loss   dfl_loss  Instances       Size\n",
            "       1/50      2.71G      1.152      1.595      1.249        228        640: 100% 8/8 [00:06<00:00,  1.33it/s]\n",
            "                 Class     Images  Instances      Box(P          R      mAP50  mAP50-95): 100% 4/4 [00:01<00:00,  2.17it/s]\n",
            "                   all        128        929      0.663      0.526      0.598      0.441\n",
            "\n",
            "      Epoch    GPU_mem   box_loss   cls_loss   dfl_loss  Instances       Size\n",
            "       2/50      2.61G      1.141      1.371      1.217        151        640: 100% 8/8 [00:02<00:00,  2.71it/s]\n",
            "                 Class     Images  Instances      Box(P          R      mAP50  mAP50-95): 100% 4/4 [00:02<00:00,  1.98it/s]\n",
            "                   all        128        929      0.684      0.545      0.628      0.462\n",
            "\n",
            "      Epoch    GPU_mem   box_loss   cls_loss   dfl_loss  Instances       Size\n",
            "       3/50      2.55G      1.144      1.289      1.222        164        640: 100% 8/8 [00:01<00:00,  4.69it/s]\n",
            "                 Class     Images  Instances      Box(P          R      mAP50  mAP50-95): 100% 4/4 [00:01<00:00,  2.76it/s]\n",
            "                   all        128        929      0.693      0.552      0.643      0.477\n",
            "\n",
            "      Epoch    GPU_mem   box_loss   cls_loss   dfl_loss  Instances       Size\n",
            "       4/50       2.6G      1.151      1.321      1.225        232        640: 100% 8/8 [00:01<00:00,  4.44it/s]\n",
            "                 Class     Images  Instances      Box(P          R      mAP50  mAP50-95): 100% 4/4 [00:01<00:00,  3.09it/s]\n",
            "                   all        128        929       0.71      0.575      0.656      0.492\n",
            "\n",
            "      Epoch    GPU_mem   box_loss   cls_loss   dfl_loss  Instances       Size\n",
            "       5/50      2.66G      1.166       1.23      1.195        249        640: 100% 8/8 [00:02<00:00,  3.85it/s]\n",
            "                 Class     Images  Instances      Box(P          R      mAP50  mAP50-95): 100% 4/4 [00:02<00:00,  1.67it/s]\n",
            "                   all        128        929      0.695      0.603      0.669      0.502\n",
            "\n",
            "      Epoch    GPU_mem   box_loss   cls_loss   dfl_loss  Instances       Size\n",
            "       6/50      2.51G      1.136       1.17      1.188        229        640: 100% 8/8 [00:01<00:00,  4.61it/s]\n",
            "                 Class     Images  Instances      Box(P          R      mAP50  mAP50-95): 100% 4/4 [00:01<00:00,  2.71it/s]\n",
            "                   all        128        929      0.717      0.613      0.686      0.511\n",
            "\n",
            "      Epoch    GPU_mem   box_loss   cls_loss   dfl_loss  Instances       Size\n",
            "       7/50      2.59G      1.075      1.159      1.164        250        640: 100% 8/8 [00:01<00:00,  5.09it/s]\n",
            "                 Class     Images  Instances      Box(P          R      mAP50  mAP50-95): 100% 4/4 [00:01<00:00,  2.33it/s]\n",
            "                   all        128        929      0.739      0.636      0.694      0.519\n",
            "\n",
            "      Epoch    GPU_mem   box_loss   cls_loss   dfl_loss  Instances       Size\n",
            "       8/50      2.49G      1.134      1.156      1.192        132        640: 100% 8/8 [00:01<00:00,  5.30it/s]\n",
            "                 Class     Images  Instances      Box(P          R      mAP50  mAP50-95):  25% 1/4 [00:01<00:03,  1.14s/it]\n",
            "Traceback (most recent call last):\n",
            "  File \"/usr/local/bin/yolo\", line 8, in <module>\n",
            "    sys.exit(entrypoint())\n",
            "  File \"/usr/local/lib/python3.10/dist-packages/ultralytics/cfg/__init__.py\", line 445, in entrypoint\n",
            "    getattr(model, mode)(**overrides)  # default args from model\n",
            "  File \"/usr/local/lib/python3.10/dist-packages/ultralytics/engine/model.py\", line 337, in train\n",
            "    self.trainer.train()\n",
            "  File \"/usr/local/lib/python3.10/dist-packages/ultralytics/engine/trainer.py\", line 195, in train\n",
            "    self._do_train(world_size)\n",
            "  File \"/usr/local/lib/python3.10/dist-packages/ultralytics/engine/trainer.py\", line 390, in _do_train\n",
            "    self.metrics, self.fitness = self.validate()\n",
            "  File \"/usr/local/lib/python3.10/dist-packages/ultralytics/engine/trainer.py\", line 494, in validate\n",
            "    metrics = self.validator(self)\n",
            "  File \"/usr/local/lib/python3.10/dist-packages/torch/utils/_contextlib.py\", line 115, in decorate_context\n",
            "    return func(*args, **kwargs)\n",
            "  File \"/usr/local/lib/python3.10/dist-packages/ultralytics/engine/validator.py\", line 179, in __call__\n",
            "    self.update_metrics(preds, batch)\n",
            "  File \"/usr/local/lib/python3.10/dist-packages/ultralytics/models/yolo/detect/val.py\", line 123, in update_metrics\n",
            "    correct_bboxes = self._process_batch(predn, labelsn)\n",
            "  File \"/usr/local/lib/python3.10/dist-packages/ultralytics/models/yolo/detect/val.py\", line 183, in _process_batch\n",
            "    return self.match_predictions(detections[:, 5], labels[:, 0], iou)\n",
            "  File \"/usr/local/lib/python3.10/dist-packages/ultralytics/engine/validator.py\", line 242, in match_predictions\n",
            "    matches = matches[np.unique(matches[:, 1], return_index=True)[1]]\n",
            "  File \"<__array_function__ internals>\", line 180, in unique\n",
            "  File \"/usr/local/lib/python3.10/dist-packages/numpy/lib/arraysetops.py\", line 274, in unique\n",
            "    ret = _unique1d(ar, return_index, return_inverse, return_counts, \n",
            "  File \"/usr/local/lib/python3.10/dist-packages/numpy/lib/arraysetops.py\", line 357, in _unique1d\n",
            "    if return_inverse:\n",
            "KeyboardInterrupt\n",
            "^C\n"
          ]
        }
      ],
      "source": [
        "# Train YOLOv8n on COCO128 for 50 epochs\n",
        "!yolo train model=/content/yolov8n.pt data= \"coco128.yaml\" epochs=50 imgsz=640"
      ]
    },
    {
      "cell_type": "markdown",
      "metadata": {
        "id": "nPZZeNrLCQG6"
      },
      "source": [
        "# 4. Export\n",
        "\n",
        "Export a YOLOv8 model to any supported format below with the `format` argument, i.e. `format=onnx`. See [YOLOv8 Export Docs](https://docs.ultralytics.com/modes/export/) for more information.\n",
        "\n",
        "- 💡 ProTip: Export to [ONNX](https://onnx.ai/) or [OpenVINO](https://docs.openvino.ai/latest/index.html) for up to 3x CPU speedup.  \n",
        "- 💡 ProTip: Export to [TensorRT](https://developer.nvidia.com/tensorrt) for up to 5x GPU speedup.\n",
        "\n",
        "\n",
        "| Format                                                                     | `format=`          | Model                     |\n",
        "|----------------------------------------------------------------------------|--------------------|---------------------------|\n",
        "| [PyTorch](https://pytorch.org/)                                            | -                  | `yolov8n.pt`              |\n",
        "| [TorchScript](https://pytorch.org/docs/stable/jit.html)                    | `torchscript`      | `yolov8n.torchscript`     |\n",
        "| [ONNX](https://onnx.ai/)                                                   | `onnx`             | `yolov8n.onnx`            |\n",
        "| [OpenVINO](https://docs.openvino.ai/latest/index.html)                     | `openvino`         | `yolov8n_openvino_model/` |\n",
        "| [TensorRT](https://developer.nvidia.com/tensorrt)                          | `engine`           | `yolov8n.engine`          |\n",
        "| [CoreML](https://github.com/apple/coremltools)                             | `coreml`           | `yolov8n.mlmodel`         |\n",
        "| [TensorFlow SavedModel](https://www.tensorflow.org/guide/saved_model)      | `saved_model`      | `yolov8n_saved_model/`    |\n",
        "| [TensorFlow GraphDef](https://www.tensorflow.org/api_docs/python/tf/Graph) | `pb`               | `yolov8n.pb`              |\n",
        "| [TensorFlow Lite](https://www.tensorflow.org/lite)                         | `tflite`           | `yolov8n.tflite`          |\n",
        "| [TensorFlow Edge TPU](https://coral.ai/docs/edgetpu/models-intro/)         | `edgetpu`          | `yolov8n_edgetpu.tflite`  |\n",
        "| [TensorFlow.js](https://www.tensorflow.org/js)                             | `tfjs`             | `yolov8n_web_model/`      |\n",
        "| [PaddlePaddle](https://github.com/PaddlePaddle)                            | `paddle`           | `yolov8n_paddle_model/`   |\n",
        "\n"
      ]
    },
    {
      "cell_type": "code",
      "source": [
        "!yolo task=detect mode=predict model=/content/bestcoco200.pt conf=0.60 source='/content/OIP(2).jpeg'"
      ],
      "metadata": {
        "colab": {
          "base_uri": "https://localhost:8080/"
        },
        "id": "V--2Z6LqhaCD",
        "outputId": "efba3c19-a0ff-4ba9-a5ba-2ee9ab2cff78"
      },
      "execution_count": null,
      "outputs": [
        {
          "output_type": "stream",
          "name": "stdout",
          "text": [
            "Ultralytics YOLOv8.0.180 🚀 Python-3.10.12 torch-2.0.1+cu118 CUDA:0 (Tesla T4, 15102MiB)\n",
            "Model summary (fused): 168 layers, 3151904 parameters, 0 gradients\n",
            "\n",
            "image 1/1 /content/OIP(2).jpeg: 480x640 3 cars, 1 bus, 99.4ms\n",
            "Speed: 2.4ms preprocess, 99.4ms inference, 87.4ms postprocess per image at shape (1, 3, 480, 640)\n",
            "Results saved to \u001b[1mruns/detect/predict\u001b[0m\n",
            "💡 Learn more at https://docs.ultralytics.com/modes/predict\n"
          ]
        }
      ]
    },
    {
      "cell_type": "code",
      "source": [
        "!yolo task=detect mode=predict model=/content/bestcoco200.pt conf=0.60 source='/content/OIP(1).jpeg'"
      ],
      "metadata": {
        "colab": {
          "base_uri": "https://localhost:8080/"
        },
        "id": "92pNUF6bi_Tc",
        "outputId": "c3d41e2f-12c5-4967-e793-71d6e92579c6"
      },
      "execution_count": null,
      "outputs": [
        {
          "output_type": "stream",
          "name": "stdout",
          "text": [
            "Ultralytics YOLOv8.0.180 🚀 Python-3.10.12 torch-2.0.1+cu118 CUDA:0 (Tesla T4, 15102MiB)\n",
            "Model summary (fused): 168 layers, 3151904 parameters, 0 gradients\n",
            "\n",
            "image 1/1 /content/OIP(1).jpeg: 448x640 2 cars, 2 trucks, 155.4ms\n",
            "Speed: 2.8ms preprocess, 155.4ms inference, 83.7ms postprocess per image at shape (1, 3, 448, 640)\n",
            "Results saved to \u001b[1mruns/detect/predict2\u001b[0m\n",
            "💡 Learn more at https://docs.ultralytics.com/modes/predict\n"
          ]
        }
      ]
    },
    {
      "cell_type": "code",
      "source": [
        "!yolo task=detect mode=predict model=/content/bestcoco200.pt conf=0.60 source='/content/OIP.jpeg'"
      ],
      "metadata": {
        "colab": {
          "base_uri": "https://localhost:8080/"
        },
        "id": "4UWIXlOnjL0J",
        "outputId": "98237005-4165-477b-d588-e686818967ee"
      },
      "execution_count": null,
      "outputs": [
        {
          "output_type": "stream",
          "name": "stdout",
          "text": [
            "Ultralytics YOLOv8.0.180 🚀 Python-3.10.12 torch-2.0.1+cu118 CUDA:0 (Tesla T4, 15102MiB)\n",
            "Model summary (fused): 168 layers, 3151904 parameters, 0 gradients\n",
            "\n",
            "image 1/1 /content/OIP.jpeg: 416x640 2 persons, 3 cars, 1 bus, 1 traffic light, 118.2ms\n",
            "Speed: 2.1ms preprocess, 118.2ms inference, 85.7ms postprocess per image at shape (1, 3, 416, 640)\n",
            "Results saved to \u001b[1mruns/detect/predict3\u001b[0m\n",
            "💡 Learn more at https://docs.ultralytics.com/modes/predict\n"
          ]
        }
      ]
    },
    {
      "cell_type": "code",
      "execution_count": null,
      "metadata": {
        "id": "8Go5qqS9LbC5",
        "colab": {
          "base_uri": "https://localhost:8080/"
        },
        "outputId": "7f56b14c-86a0-4106-a446-89445bc5ae85"
      },
      "outputs": [
        {
          "output_type": "stream",
          "name": "stderr",
          "text": [
            "\n",
            "image 1/1 /content/OIP (1).jpeg: 448x640 2 persons, 6 cars, 4 trucks, 4 traffic lights, 111.3ms\n",
            "Speed: 3.6ms preprocess, 111.3ms inference, 2.7ms postprocess per image at shape (1, 3, 448, 640)\n"
          ]
        },
        {
          "output_type": "execute_result",
          "data": {
            "text/plain": [
              "[ultralytics.engine.results.Results object with attributes:\n",
              " \n",
              " boxes: ultralytics.engine.results.Boxes object\n",
              " keypoints: None\n",
              " masks: None\n",
              " names: {0: 'person', 1: 'bicycle', 2: 'car', 3: 'motorcycle', 4: 'airplane', 5: 'bus', 6: 'train', 7: 'truck', 8: 'boat', 9: 'traffic light', 10: 'fire hydrant', 11: 'stop sign', 12: 'parking meter', 13: 'bench', 14: 'bird', 15: 'cat', 16: 'dog', 17: 'horse', 18: 'sheep', 19: 'cow', 20: 'elephant', 21: 'bear', 22: 'zebra', 23: 'giraffe', 24: 'backpack', 25: 'umbrella', 26: 'handbag', 27: 'tie', 28: 'suitcase', 29: 'frisbee', 30: 'skis', 31: 'snowboard', 32: 'sports ball', 33: 'kite', 34: 'baseball bat', 35: 'baseball glove', 36: 'skateboard', 37: 'surfboard', 38: 'tennis racket', 39: 'bottle', 40: 'wine glass', 41: 'cup', 42: 'fork', 43: 'knife', 44: 'spoon', 45: 'bowl', 46: 'banana', 47: 'apple', 48: 'sandwich', 49: 'orange', 50: 'broccoli', 51: 'carrot', 52: 'hot dog', 53: 'pizza', 54: 'donut', 55: 'cake', 56: 'chair', 57: 'couch', 58: 'potted plant', 59: 'bed', 60: 'dining table', 61: 'toilet', 62: 'tv', 63: 'laptop', 64: 'mouse', 65: 'remote', 66: 'keyboard', 67: 'cell phone', 68: 'microwave', 69: 'oven', 70: 'toaster', 71: 'sink', 72: 'refrigerator', 73: 'book', 74: 'clock', 75: 'vase', 76: 'scissors', 77: 'teddy bear', 78: 'hair drier', 79: 'toothbrush'}\n",
              " orig_img: array([[[ 47,  29,  18],\n",
              "         [ 54,  36,  25],\n",
              "         [ 51,  33,  22],\n",
              "         ...,\n",
              "         [ 48,  49,  59],\n",
              "         [ 48,  50,  60],\n",
              "         [ 48,  50,  60]],\n",
              " \n",
              "        [[ 56,  38,  27],\n",
              "         [ 58,  40,  29],\n",
              "         [ 50,  32,  21],\n",
              "         ...,\n",
              "         [ 45,  46,  56],\n",
              "         [ 50,  52,  62],\n",
              "         [ 50,  52,  62]],\n",
              " \n",
              "        [[ 54,  36,  25],\n",
              "         [ 52,  34,  23],\n",
              "         [ 42,  24,  13],\n",
              "         ...,\n",
              "         [ 47,  49,  57],\n",
              "         [ 57,  60,  68],\n",
              "         [ 57,  60,  68]],\n",
              " \n",
              "        ...,\n",
              " \n",
              "        [[109, 110, 108],\n",
              "         [102, 103, 101],\n",
              "         [ 98,  99,  97],\n",
              "         ...,\n",
              "         [ 60,  56,  51],\n",
              "         [ 54,  51,  46],\n",
              "         [ 71,  68,  63]],\n",
              " \n",
              "        [[109, 110, 108],\n",
              "         [102, 103, 101],\n",
              "         [ 98,  99,  97],\n",
              "         ...,\n",
              "         [ 60,  56,  51],\n",
              "         [ 69,  66,  61],\n",
              "         [ 86,  83,  78]],\n",
              " \n",
              "        [[110, 111, 109],\n",
              "         [102, 103, 101],\n",
              "         [ 98,  99,  97],\n",
              "         ...,\n",
              "         [ 60,  56,  51],\n",
              "         [ 72,  69,  64],\n",
              "         [ 89,  86,  81]]], dtype=uint8)\n",
              " orig_shape: (315, 474)\n",
              " path: '/content/OIP (1).jpeg'\n",
              " probs: None\n",
              " save_dir: None\n",
              " speed: {'preprocess': 3.576040267944336, 'inference': 111.2513542175293, 'postprocess': 2.6535987854003906}]"
            ]
          },
          "metadata": {},
          "execution_count": 15
        }
      ],
      "source": [
        "# Load YOLOv8n, train it on COCO128 for 3 epochs and predict an image with it\n",
        "from ultralytics import YOLO\n",
        "\n",
        "model = YOLO('/content/bestcoco200.pt')  # load a pretrained YOLOv8n detection model\n",
        "model('/content/OIP (1).jpeg')  # predict on an image"
      ]
    },
    {
      "cell_type": "code",
      "source": [
        "!yolo task=detect mode=predict model=/content/bestcoco200.pt conf=0.60 source='/content/R.jpeg'"
      ],
      "metadata": {
        "colab": {
          "base_uri": "https://localhost:8080/"
        },
        "id": "wTy9GPSfjMAQ",
        "outputId": "275adcdd-a59b-4579-cea1-f648b0a5d0ed"
      },
      "execution_count": null,
      "outputs": [
        {
          "output_type": "stream",
          "name": "stdout",
          "text": [
            "Ultralytics YOLOv8.0.180 🚀 Python-3.10.12 torch-2.0.1+cu118 CUDA:0 (Tesla T4, 15102MiB)\n",
            "Model summary (fused): 168 layers, 3151904 parameters, 0 gradients\n",
            "\n",
            "image 1/1 /content/R.jpeg: 448x640 7 cars, 3 trucks, 2 traffic lights, 84.6ms\n",
            "Speed: 3.2ms preprocess, 84.6ms inference, 79.3ms postprocess per image at shape (1, 3, 448, 640)\n",
            "Results saved to \u001b[1mruns/detect/predict4\u001b[0m\n",
            "💡 Learn more at https://docs.ultralytics.com/modes/predict\n"
          ]
        }
      ]
    },
    {
      "cell_type": "code",
      "source": [
        "!yolo task=detect mode=predict model=/content/bestcoco200.pt conf=0.60 source='/content/OIP(3).jpeg'"
      ],
      "metadata": {
        "colab": {
          "base_uri": "https://localhost:8080/"
        },
        "id": "GSE2rnO_mR7D",
        "outputId": "b18b0554-482a-4827-92d1-18a6c7ab2cd6"
      },
      "execution_count": null,
      "outputs": [
        {
          "output_type": "stream",
          "name": "stdout",
          "text": [
            "Ultralytics YOLOv8.0.180 🚀 Python-3.10.12 torch-2.0.1+cu118 CUDA:0 (Tesla T4, 15102MiB)\n",
            "Model summary (fused): 168 layers, 3151904 parameters, 0 gradients\n",
            "\n",
            "image 1/1 /content/OIP(3).jpeg: 416x640 2 persons, 3 cars, 2 trucks, 100.4ms\n",
            "Speed: 2.4ms preprocess, 100.4ms inference, 97.5ms postprocess per image at shape (1, 3, 416, 640)\n",
            "Results saved to \u001b[1mruns/detect/predict5\u001b[0m\n",
            "💡 Learn more at https://docs.ultralytics.com/modes/predict\n"
          ]
        }
      ]
    },
    {
      "cell_type": "code",
      "source": [
        "!yolo task=detect mode=predict model=/content/bestcoco200.pt conf=0.60 source='/content/OIP4.jpeg'"
      ],
      "metadata": {
        "colab": {
          "base_uri": "https://localhost:8080/"
        },
        "id": "mZQvRmXnmR-A",
        "outputId": "c104ee27-6dd5-41f0-9b78-1e87f5981fd7"
      },
      "execution_count": null,
      "outputs": [
        {
          "output_type": "stream",
          "name": "stdout",
          "text": [
            "Ultralytics YOLOv8.0.180 🚀 Python-3.10.12 torch-2.0.1+cu118 CUDA:0 (Tesla T4, 15102MiB)\n",
            "Model summary (fused): 168 layers, 3151904 parameters, 0 gradients\n",
            "\n",
            "image 1/1 /content/OIP4.jpeg: 448x640 5 persons, 2 cars, 1 truck, 3 traffic lights, 103.5ms\n",
            "Speed: 2.6ms preprocess, 103.5ms inference, 98.0ms postprocess per image at shape (1, 3, 448, 640)\n",
            "Results saved to \u001b[1mruns/detect/predict6\u001b[0m\n",
            "💡 Learn more at https://docs.ultralytics.com/modes/predict\n"
          ]
        }
      ]
    },
    {
      "cell_type": "code",
      "source": [
        "!yolo task=detect mode=predict model=/content/bestcoco200.pt conf=0.60 source='/content/1234.jpg'"
      ],
      "metadata": {
        "colab": {
          "base_uri": "https://localhost:8080/"
        },
        "id": "Wls2MHnUmSBA",
        "outputId": "d1a2d2b4-db8a-42bb-a644-179ec7af9c59"
      },
      "execution_count": null,
      "outputs": [
        {
          "output_type": "stream",
          "name": "stdout",
          "text": [
            "Ultralytics YOLOv8.0.180 🚀 Python-3.10.12 torch-2.0.1+cu118 CUDA:0 (Tesla T4, 15102MiB)\n",
            "Model summary (fused): 168 layers, 3151904 parameters, 0 gradients\n",
            "\n",
            "image 1/1 /content/1234.jpg: 448x640 1 person, 6 cars, 80.4ms\n",
            "Speed: 4.0ms preprocess, 80.4ms inference, 83.9ms postprocess per image at shape (1, 3, 448, 640)\n",
            "Results saved to \u001b[1mruns/detect/predict7\u001b[0m\n",
            "💡 Learn more at https://docs.ultralytics.com/modes/predict\n"
          ]
        }
      ]
    },
    {
      "cell_type": "code",
      "source": [
        "!yolo task=detect mode=predict model=/content/bestcoco200.pt conf=0.60 source='/content/R.jpeg'"
      ],
      "metadata": {
        "id": "c9k-MskKmSDm"
      },
      "execution_count": null,
      "outputs": []
    },
    {
      "cell_type": "code",
      "source": [
        "!yolo task=detect mode=predict model=/content/bestcoco200.pt conf=0.60 source='/content/R.jpeg'"
      ],
      "metadata": {
        "id": "CRldag5TmSHN"
      },
      "execution_count": null,
      "outputs": []
    },
    {
      "cell_type": "code",
      "execution_count": null,
      "metadata": {
        "colab": {
          "base_uri": "https://localhost:8080/"
        },
        "id": "CYIjW4igCjqD",
        "outputId": "fc41bf7a-0ea2-41a6-9ec5-dd0455af43bc"
      },
      "outputs": [
        {
          "name": "stdout",
          "output_type": "stream",
          "text": [
            "Ultralytics YOLOv8.0.71 🚀 Python-3.9.16 torch-2.0.0+cu118 CPU\n",
            "YOLOv8n summary (fused): 168 layers, 3151904 parameters, 0 gradients, 8.7 GFLOPs\n",
            "\n",
            "\u001b[34m\u001b[1mPyTorch:\u001b[0m starting from yolov8n.pt with input shape (1, 3, 640, 640) BCHW and output shape(s) (1, 84, 8400) (6.2 MB)\n",
            "\n",
            "\u001b[34m\u001b[1mTorchScript:\u001b[0m starting export with torch 2.0.0+cu118...\n",
            "\u001b[34m\u001b[1mTorchScript:\u001b[0m export success ✅ 2.3s, saved as yolov8n.torchscript (12.4 MB)\n",
            "\n",
            "Export complete (3.1s)\n",
            "Results saved to \u001b[1m/content\u001b[0m\n",
            "Predict:         yolo predict task=detect model=yolov8n.torchscript imgsz=640 \n",
            "Validate:        yolo val task=detect model=yolov8n.torchscript imgsz=640 data=coco.yaml \n",
            "Visualize:       https://netron.app\n"
          ]
        }
      ],
      "source": [
        "!yolo export model=yolov8n.pt format=torchscript"
      ]
    },
    {
      "cell_type": "code",
      "source": [
        "import torch\n",
        "import torch\n",
        "ckpt = torch.load(\"/content/bestcoco200.pt\")  # Load the model checkpoint\n",
        "torch.save(ckpt, \"updated-model.pt\")  # Save it with the current structure\n",
        "\n"
      ],
      "metadata": {
        "id": "X23xPEEpqwnG"
      },
      "execution_count": null,
      "outputs": []
    },
    {
      "cell_type": "markdown",
      "metadata": {
        "id": "kUMOQ0OeDBJG"
      },
      "source": [
        "# 5. Python Usage\n",
        "\n",
        "YOLOv8 was reimagined using Python-first principles for the most seamless Python YOLO experience yet. YOLOv8 models can be loaded from a trained checkpoint or created from scratch. Then methods are used to train, val, predict, and export the model. See detailed Python usage examples in the [YOLOv8 Python Docs](https://docs.ultralytics.com/usage/python/)."
      ]
    },
    {
      "cell_type": "code",
      "execution_count": null,
      "metadata": {
        "id": "bpF9-vS_DAaf"
      },
      "outputs": [],
      "source": [
        "from ultralytics import YOLO\n",
        "\n",
        "# Load a model\n",
        "model = YOLO('yolov8n.yaml')  # build a new model from scratch\n",
        "model = YOLO('yolov8n.pt')  # load a pretrained model (recommended for training)\n",
        "\n",
        "# Use the model\n",
        "results = model.train(data='coco128.yaml', epochs=3)  # train the model\n",
        "results = model.val()  # evaluate model performance on the validation set\n",
        "results = model('https://ultralytics.com/images/bus.jpg')  # predict on an image\n",
        "success = model.export(format='onnx')  # export the model to ONNX format"
      ]
    },
    {
      "cell_type": "markdown",
      "metadata": {
        "id": "yq26lwpYK1lq"
      },
      "source": [
        "## 1. Detection\n",
        "\n",
        "YOLOv8 _detection_ models have no suffix and are the default YOLOv8 models, i.e. `yolov8n.pt` and are pretrained on COCO. See [Detection Docs](https://docs.ultralytics.com/tasks/detect/) for full details.\n"
      ]
    },
    {
      "cell_type": "code",
      "execution_count": null,
      "metadata": {
        "id": "WFPJIQl_L5HT"
      },
      "outputs": [],
      "source": [
        "# Load YOLOv8n-seg, train it on COCO128-seg for 3 epochs and predict an image with it\n",
        "from ultralytics import YOLO\n",
        "\n",
        "model = YOLO('yolov8n.pt')  # load a pretrained YOLOv8n segmentation model\n",
        "model.train(data='coco128-seg.yaml', epochs=3)  # train the model\n",
        "model('https://ultralytics.com/images/bus.jpg')  # predict on an image"
      ]
    },
    {
      "cell_type": "code",
      "execution_count": null,
      "metadata": {
        "id": "5q9Zu6zlL5rS"
      },
      "outputs": [],
      "source": [
        "# Load YOLOv8n-cls, train it on mnist160 for 3 epochs and predict an image with it\n",
        "from ultralytics import YOLO\n",
        "\n",
        "model = YOLO('yolov8n-cls.pt')  # load a pretrained YOLOv8n classification model\n",
        "model.train(data='mnist160', epochs=3)  # train the model\n",
        "model('https://ultralytics.com/images/bus.jpg')  # predict on an image"
      ]
    },
    {
      "cell_type": "markdown",
      "metadata": {
        "id": "IEijrePND_2I"
      },
      "source": [
        "# Appendix\n",
        "\n",
        "Additional content below."
      ]
    },
    {
      "cell_type": "code",
      "execution_count": null,
      "metadata": {
        "id": "uRKlwxSJdhd1"
      },
      "outputs": [],
      "source": [
        "# Git clone and run tests on updates branch\n",
        "!git clone https://github.com/ultralytics/ultralytics -b updates\n",
        "%pip install -qe ultralytics\n",
        "!pytest ultralytics/tests"
      ]
    },
    {
      "cell_type": "code",
      "execution_count": null,
      "metadata": {
        "id": "Wdc6t_bfzDDk"
      },
      "outputs": [],
      "source": [
        "# Validate multiple models\n",
        "for x in 'nsmlx':\n",
        "  !yolo val model=yolov8{x}.pt data=coco.yaml"
      ]
    },
    {
      "cell_type": "code",
      "source": [
        "!yolo val model=/content/bestcoco250.pt data= coco128.yaml"
      ],
      "metadata": {
        "colab": {
          "base_uri": "https://localhost:8080/"
        },
        "id": "bnwie4pJxdNi",
        "outputId": "20206ca6-2830-4c1a-a316-f14051a18f20"
      },
      "execution_count": null,
      "outputs": [
        {
          "output_type": "stream",
          "name": "stdout",
          "text": [
            "Ultralytics YOLOv8.0.180 🚀 Python-3.10.12 torch-2.0.1+cu118 CUDA:0 (Tesla T4, 15102MiB)\n",
            "YOLOv8n summary (fused): 168 layers, 3151904 parameters, 0 gradients\n",
            "\u001b[34m\u001b[1mval: \u001b[0mScanning /content/datasets/coco128/labels/train2017.cache... 126 images, 2 backgrounds, 0 corrupt: 100% 128/128 [00:00<?, ?it/s]\n",
            "                 Class     Images  Instances      Box(P          R      mAP50  mAP50-95): 100% 8/8 [00:06<00:00,  1.19it/s]\n",
            "                   all        128        929       0.64      0.537      0.605      0.446\n",
            "                person        128        254      0.797      0.677      0.764      0.538\n",
            "               bicycle        128          6      0.514      0.333      0.315      0.264\n",
            "                   car        128         46      0.813      0.217      0.273      0.168\n",
            "            motorcycle        128          5      0.687      0.887      0.898      0.685\n",
            "              airplane        128          6       0.82      0.833      0.927      0.675\n",
            "                   bus        128          7      0.491      0.714      0.728      0.671\n",
            "                 train        128          3      0.534      0.667      0.706      0.604\n",
            "                 truck        128         12          1      0.332      0.473      0.297\n",
            "                  boat        128          6      0.226      0.167      0.316      0.134\n",
            "         traffic light        128         14      0.734        0.2      0.202      0.139\n",
            "             stop sign        128          2          1      0.992      0.995      0.701\n",
            "                 bench        128          9      0.839      0.582       0.62      0.365\n",
            "                  bird        128         16      0.921      0.728      0.864       0.51\n",
            "                   cat        128          4      0.875          1      0.995      0.791\n",
            "                   dog        128          9      0.603      0.889      0.785      0.585\n",
            "                 horse        128          2      0.597          1      0.995      0.518\n",
            "              elephant        128         17      0.849      0.765        0.9      0.679\n",
            "                  bear        128          1      0.593          1      0.995      0.995\n",
            "                 zebra        128          4      0.848          1      0.995      0.965\n",
            "               giraffe        128          9       0.72          1      0.951      0.722\n",
            "              backpack        128          6      0.589      0.333      0.376      0.232\n",
            "              umbrella        128         18      0.804        0.5      0.643      0.414\n",
            "               handbag        128         19      0.424     0.0526      0.165     0.0889\n",
            "                   tie        128          7      0.804      0.714      0.674      0.476\n",
            "              suitcase        128          4      0.635      0.883      0.745      0.534\n",
            "               frisbee        128          5      0.675        0.8      0.759      0.688\n",
            "                  skis        128          1      0.567          1      0.995      0.497\n",
            "             snowboard        128          7      0.742      0.714      0.747        0.5\n",
            "           sports ball        128          6      0.716      0.433      0.485      0.278\n",
            "                  kite        128         10      0.817       0.45      0.569      0.184\n",
            "          baseball bat        128          4      0.551       0.25      0.353      0.175\n",
            "        baseball glove        128          7      0.624      0.429      0.429      0.293\n",
            "            skateboard        128          5      0.846        0.6        0.6       0.41\n",
            "         tennis racket        128          7      0.726      0.387      0.487       0.33\n",
            "                bottle        128         18      0.448      0.389      0.376      0.208\n",
            "            wine glass        128         16      0.743      0.362      0.584      0.333\n",
            "                   cup        128         36       0.58      0.278      0.404       0.29\n",
            "                  fork        128          6      0.527      0.167      0.246      0.184\n",
            "                 knife        128         16      0.564        0.5       0.59       0.36\n",
            "                 spoon        128         22      0.597      0.182      0.328       0.19\n",
            "                  bowl        128         28      0.648      0.643      0.618      0.491\n",
            "                banana        128          1          0          0      0.124     0.0379\n",
            "              sandwich        128          2      0.249        0.5      0.308      0.308\n",
            "                orange        128          4          1       0.31      0.995      0.623\n",
            "              broccoli        128         11      0.374      0.182      0.249      0.203\n",
            "                carrot        128         24      0.648      0.458      0.572      0.362\n",
            "               hot dog        128          2      0.351      0.553      0.745      0.721\n",
            "                 pizza        128          5      0.644          1      0.995      0.843\n",
            "                 donut        128         14      0.657          1       0.94      0.864\n",
            "                  cake        128          4      0.618          1      0.945      0.845\n",
            "                 chair        128         35      0.506      0.514      0.442      0.239\n",
            "                 couch        128          6      0.463        0.5      0.706      0.555\n",
            "          potted plant        128         14       0.65      0.643      0.711      0.472\n",
            "                   bed        128          3      0.698      0.667      0.789      0.625\n",
            "          dining table        128         13      0.432      0.615      0.485      0.366\n",
            "                toilet        128          2      0.615        0.5      0.695      0.676\n",
            "                    tv        128          2      0.373       0.62      0.745      0.696\n",
            "                laptop        128          3          1          0      0.451      0.361\n",
            "                 mouse        128          2          1          0     0.0625    0.00625\n",
            "                remote        128          8      0.843        0.5      0.605      0.529\n",
            "            cell phone        128          8          0          0     0.0549     0.0393\n",
            "             microwave        128          3      0.435      0.667      0.806      0.718\n",
            "                  oven        128          5      0.412        0.4      0.339       0.27\n",
            "                  sink        128          6       0.35      0.167      0.182      0.129\n",
            "          refrigerator        128          5      0.589        0.4      0.604      0.452\n",
            "                  book        128         29      0.629      0.103      0.346      0.178\n",
            "                 clock        128          9      0.788       0.83      0.875       0.74\n",
            "                  vase        128          2      0.376          1      0.828      0.795\n",
            "              scissors        128          1          1          0      0.249     0.0746\n",
            "            teddy bear        128         21      0.877      0.333      0.591      0.394\n",
            "            toothbrush        128          5      0.743        0.6      0.638      0.374\n",
            "Speed: 3.7ms preprocess, 11.5ms inference, 0.0ms loss, 4.8ms postprocess per image\n",
            "Results saved to \u001b[1mruns/detect/val\u001b[0m\n",
            "💡 Learn more at https://docs.ultralytics.com/modes/val\n"
          ]
        }
      ]
    },
    {
      "cell_type": "code",
      "source": [
        "!zip -r /content/runs.zip /content/runs\n"
      ],
      "metadata": {
        "colab": {
          "base_uri": "https://localhost:8080/"
        },
        "id": "FRJkLAiXxePQ",
        "outputId": "e249a644-623d-44a1-bd8f-59efa83323f8"
      },
      "execution_count": null,
      "outputs": [
        {
          "output_type": "stream",
          "name": "stdout",
          "text": [
            "  adding: content/runs/ (stored 0%)\n",
            "  adding: content/runs/detect/ (stored 0%)\n",
            "  adding: content/runs/detect/predict2/ (stored 0%)\n",
            "  adding: content/runs/detect/predict2/OIP(1).jpeg (deflated 4%)\n",
            "  adding: content/runs/detect/predict7/ (stored 0%)\n",
            "  adding: content/runs/detect/predict7/1234.jpg (deflated 4%)\n",
            "  adding: content/runs/detect/val-50/ (stored 0%)\n",
            "  adding: content/runs/detect/val-50/confusion_matrix_normalized.png (deflated 17%)\n",
            "  adding: content/runs/detect/val-50/val_batch0_labels.jpg (deflated 8%)\n",
            "  adding: content/runs/detect/val-50/confusion_matrix.png (deflated 16%)\n",
            "  adding: content/runs/detect/val-50/PR_curve.png (deflated 10%)\n",
            "  adding: content/runs/detect/val-50/F1_curve.png (deflated 8%)\n",
            "  adding: content/runs/detect/val-50/val_batch2_labels.jpg (deflated 6%)\n",
            "  adding: content/runs/detect/val-50/val_batch1_labels.jpg (deflated 5%)\n",
            "  adding: content/runs/detect/val-50/val_batch0_pred.jpg (deflated 7%)\n",
            "  adding: content/runs/detect/val-50/P_curve.png (deflated 10%)\n",
            "  adding: content/runs/detect/val-50/val_batch2_pred.jpg (deflated 5%)\n",
            "  adding: content/runs/detect/val-50/val_batch1_pred.jpg (deflated 4%)\n",
            "  adding: content/runs/detect/val-50/R_curve.png (deflated 9%)\n",
            "  adding: content/runs/detect/train/ (stored 0%)\n",
            "  adding: content/runs/detect/train/results.csv (deflated 85%)\n",
            "  adding: content/runs/detect/train/results.png (deflated 6%)\n",
            "  adding: content/runs/detect/train/labels.jpg (deflated 24%)\n",
            "  adding: content/runs/detect/train/confusion_matrix_normalized.png (deflated 16%)\n",
            "  adding: content/runs/detect/train/train_batch0.jpg (deflated 3%)\n",
            "  adding: content/runs/detect/train/val_batch0_labels.jpg (deflated 8%)\n",
            "  adding: content/runs/detect/train/labels_correlogram.jpg (deflated 39%)\n",
            "  adding: content/runs/detect/train/confusion_matrix.png (deflated 16%)\n",
            "  adding: content/runs/detect/train/PR_curve.png (deflated 12%)\n",
            "  adding: content/runs/detect/train/args.yaml (deflated 51%)\n",
            "  adding: content/runs/detect/train/weights/ (stored 0%)\n",
            "  adding: content/runs/detect/train/weights/last.pt (deflated 9%)\n",
            "  adding: content/runs/detect/train/weights/best.pt (deflated 9%)\n",
            "  adding: content/runs/detect/train/F1_curve.png (deflated 9%)\n",
            "  adding: content/runs/detect/train/val_batch2_labels.jpg (deflated 9%)\n",
            "  adding: content/runs/detect/train/val_batch1_labels.jpg (deflated 6%)\n",
            "  adding: content/runs/detect/train/train_batch1.jpg (deflated 3%)\n",
            "  adding: content/runs/detect/train/train_batch321.jpg (deflated 8%)\n",
            "  adding: content/runs/detect/train/train_batch320.jpg (deflated 8%)\n",
            "  adding: content/runs/detect/train/val_batch0_pred.jpg (deflated 7%)\n",
            "  adding: content/runs/detect/train/events.out.tfevents.1694896292.14bdc49f9282.17587.0 (deflated 89%)\n",
            "  adding: content/runs/detect/train/P_curve.png (deflated 11%)\n",
            "  adding: content/runs/detect/train/val_batch2_pred.jpg (deflated 9%)\n",
            "  adding: content/runs/detect/train/val_batch1_pred.jpg (deflated 6%)\n",
            "  adding: content/runs/detect/train/train_batch2.jpg (deflated 2%)\n",
            "  adding: content/runs/detect/train/R_curve.png (deflated 11%)\n",
            "  adding: content/runs/detect/train/train_batch322.jpg (deflated 8%)\n",
            "  adding: content/runs/detect/predict6/ (stored 0%)\n",
            "  adding: content/runs/detect/predict6/OIP4.jpeg (deflated 3%)\n",
            "  adding: content/runs/detect/val-200/ (stored 0%)\n",
            "  adding: content/runs/detect/val-200/confusion_matrix_normalized.png (deflated 16%)\n",
            "  adding: content/runs/detect/val-200/val_batch0_labels.jpg (deflated 8%)\n",
            "  adding: content/runs/detect/val-200/confusion_matrix.png (deflated 16%)\n",
            "  adding: content/runs/detect/val-200/PR_curve.png (deflated 12%)\n",
            "  adding: content/runs/detect/val-200/F1_curve.png (deflated 9%)\n",
            "  adding: content/runs/detect/val-200/val_batch2_labels.jpg (deflated 6%)\n",
            "  adding: content/runs/detect/val-200/val_batch1_labels.jpg (deflated 5%)\n",
            "  adding: content/runs/detect/val-200/val_batch0_pred.jpg (deflated 7%)\n",
            "  adding: content/runs/detect/val-200/P_curve.png (deflated 11%)\n",
            "  adding: content/runs/detect/val-200/val_batch2_pred.jpg (deflated 6%)\n",
            "  adding: content/runs/detect/val-200/val_batch1_pred.jpg (deflated 4%)\n",
            "  adding: content/runs/detect/val-200/R_curve.png (deflated 10%)\n",
            "  adding: content/runs/detect/train3/ (stored 0%)\n",
            "  adding: content/runs/detect/train3/results.csv (deflated 81%)\n",
            "  adding: content/runs/detect/train3/labels.jpg (deflated 24%)\n",
            "  adding: content/runs/detect/train3/train_batch0.jpg (deflated 3%)\n",
            "  adding: content/runs/detect/train3/events.out.tfevents.1694896878.14bdc49f9282.20130.0 (deflated 93%)\n",
            "  adding: content/runs/detect/train3/labels_correlogram.jpg (deflated 39%)\n",
            "  adding: content/runs/detect/train3/args.yaml (deflated 51%)\n",
            "  adding: content/runs/detect/train3/weights/ (stored 0%)\n",
            "  adding: content/runs/detect/train3/weights/last.pt (deflated 9%)\n",
            "  adding: content/runs/detect/train3/weights/best.pt (deflated 9%)\n",
            "  adding: content/runs/detect/train3/train_batch1.jpg (deflated 3%)\n",
            "  adding: content/runs/detect/train3/train_batch2.jpg (deflated 2%)\n",
            "  adding: content/runs/detect/.ipynb_checkpoints/ (stored 0%)\n",
            "  adding: content/runs/detect/predict5/ (stored 0%)\n",
            "  adding: content/runs/detect/predict5/OIP(3).jpeg (deflated 4%)\n",
            "  adding: content/runs/detect/val-150/ (stored 0%)\n",
            "  adding: content/runs/detect/val-150/confusion_matrix_normalized.png (deflated 17%)\n",
            "  adding: content/runs/detect/val-150/val_batch0_labels.jpg (deflated 8%)\n",
            "  adding: content/runs/detect/val-150/confusion_matrix.png (deflated 16%)\n",
            "  adding: content/runs/detect/val-150/PR_curve.png (deflated 12%)\n",
            "  adding: content/runs/detect/val-150/F1_curve.png (deflated 9%)\n",
            "  adding: content/runs/detect/val-150/val_batch2_labels.jpg (deflated 6%)\n",
            "  adding: content/runs/detect/val-150/val_batch1_labels.jpg (deflated 5%)\n",
            "  adding: content/runs/detect/val-150/val_batch0_pred.jpg (deflated 7%)\n",
            "  adding: content/runs/detect/val-150/P_curve.png (deflated 10%)\n",
            "  adding: content/runs/detect/val-150/val_batch2_pred.jpg (deflated 6%)\n",
            "  adding: content/runs/detect/val-150/val_batch1_pred.jpg (deflated 4%)\n",
            "  adding: content/runs/detect/val-150/R_curve.png (deflated 10%)\n",
            "  adding: content/runs/detect/predict/ (stored 0%)\n",
            "  adding: content/runs/detect/predict/OIP(2).jpeg (deflated 4%)\n",
            "  adding: content/runs/detect/predict4/ (stored 0%)\n",
            "  adding: content/runs/detect/predict4/R.jpeg (deflated 0%)\n",
            "  adding: content/runs/detect/val-100/ (stored 0%)\n",
            "  adding: content/runs/detect/val-100/confusion_matrix_normalized.png (deflated 16%)\n",
            "  adding: content/runs/detect/val-100/val_batch0_labels.jpg (deflated 8%)\n",
            "  adding: content/runs/detect/val-100/confusion_matrix.png (deflated 16%)\n",
            "  adding: content/runs/detect/val-100/PR_curve.png (deflated 11%)\n",
            "  adding: content/runs/detect/val-100/F1_curve.png (deflated 9%)\n",
            "  adding: content/runs/detect/val-100/val_batch2_labels.jpg (deflated 6%)\n",
            "  adding: content/runs/detect/val-100/val_batch1_labels.jpg (deflated 5%)\n",
            "  adding: content/runs/detect/val-100/val_batch0_pred.jpg (deflated 7%)\n",
            "  adding: content/runs/detect/val-100/P_curve.png (deflated 10%)\n",
            "  adding: content/runs/detect/val-100/val_batch2_pred.jpg (deflated 6%)\n",
            "  adding: content/runs/detect/val-100/val_batch1_pred.jpg (deflated 4%)\n",
            "  adding: content/runs/detect/val-100/R_curve.png (deflated 10%)\n",
            "  adding: content/runs/detect/predict3/ (stored 0%)\n",
            "  adding: content/runs/detect/predict3/OIP.jpeg (deflated 3%)\n",
            "  adding: content/runs/detect/train2/ (stored 0%)\n",
            "  adding: content/runs/detect/train2/results.csv (deflated 76%)\n",
            "  adding: content/runs/detect/train2/events.out.tfevents.1694896792.14bdc49f9282.19729.0 (deflated 94%)\n",
            "  adding: content/runs/detect/train2/labels.jpg (deflated 24%)\n",
            "  adding: content/runs/detect/train2/train_batch0.jpg (deflated 3%)\n",
            "  adding: content/runs/detect/train2/labels_correlogram.jpg (deflated 39%)\n",
            "  adding: content/runs/detect/train2/args.yaml (deflated 51%)\n",
            "  adding: content/runs/detect/train2/weights/ (stored 0%)\n",
            "  adding: content/runs/detect/train2/weights/last.pt (deflated 9%)\n",
            "  adding: content/runs/detect/train2/weights/best.pt (deflated 9%)\n",
            "  adding: content/runs/detect/train2/train_batch1.jpg (deflated 3%)\n",
            "  adding: content/runs/detect/train2/train_batch2.jpg (deflated 2%)\n"
          ]
        }
      ]
    },
    {
      "cell_type": "code",
      "source": [
        "!mv /content/runs.zip /content/\n",
        "from google.colab import files\n",
        "files.download(\"/content/runs.zip\")\n"
      ],
      "metadata": {
        "colab": {
          "base_uri": "https://localhost:8080/",
          "height": 52
        },
        "id": "uSpgQgtgxeSM",
        "outputId": "b2fe2bd2-500a-4388-ee38-28f46b032ebd"
      },
      "execution_count": null,
      "outputs": [
        {
          "output_type": "stream",
          "name": "stdout",
          "text": [
            "mv: '/content/runs.zip' and '/content/runs.zip' are the same file\n"
          ]
        },
        {
          "output_type": "display_data",
          "data": {
            "text/plain": [
              "<IPython.core.display.Javascript object>"
            ],
            "application/javascript": [
              "\n",
              "    async function download(id, filename, size) {\n",
              "      if (!google.colab.kernel.accessAllowed) {\n",
              "        return;\n",
              "      }\n",
              "      const div = document.createElement('div');\n",
              "      const label = document.createElement('label');\n",
              "      label.textContent = `Downloading \"${filename}\": `;\n",
              "      div.appendChild(label);\n",
              "      const progress = document.createElement('progress');\n",
              "      progress.max = size;\n",
              "      div.appendChild(progress);\n",
              "      document.body.appendChild(div);\n",
              "\n",
              "      const buffers = [];\n",
              "      let downloaded = 0;\n",
              "\n",
              "      const channel = await google.colab.kernel.comms.open(id);\n",
              "      // Send a message to notify the kernel that we're ready.\n",
              "      channel.send({})\n",
              "\n",
              "      for await (const message of channel.messages) {\n",
              "        // Send a message to notify the kernel that we're ready.\n",
              "        channel.send({})\n",
              "        if (message.buffers) {\n",
              "          for (const buffer of message.buffers) {\n",
              "            buffers.push(buffer);\n",
              "            downloaded += buffer.byteLength;\n",
              "            progress.value = downloaded;\n",
              "          }\n",
              "        }\n",
              "      }\n",
              "      const blob = new Blob(buffers, {type: 'application/binary'});\n",
              "      const a = document.createElement('a');\n",
              "      a.href = window.URL.createObjectURL(blob);\n",
              "      a.download = filename;\n",
              "      div.appendChild(a);\n",
              "      a.click();\n",
              "      div.remove();\n",
              "    }\n",
              "  "
            ]
          },
          "metadata": {}
        },
        {
          "output_type": "display_data",
          "data": {
            "text/plain": [
              "<IPython.core.display.Javascript object>"
            ],
            "application/javascript": [
              "download(\"download_31ed892e-9c64-43ff-94e1-c7c7b1250855\", \"runs.zip\", 193305274)"
            ]
          },
          "metadata": {}
        }
      ]
    },
    {
      "cell_type": "code",
      "source": [],
      "metadata": {
        "id": "YT1CzO2JxeVk"
      },
      "execution_count": null,
      "outputs": []
    },
    {
      "cell_type": "code",
      "source": [],
      "metadata": {
        "id": "VAwBJk3SxdQ8"
      },
      "execution_count": null,
      "outputs": []
    }
  ],
  "metadata": {
    "accelerator": "GPU",
    "colab": {
      "provenance": []
    },
    "kernelspec": {
      "display_name": "Python (GPU)",
      "language": "python",
      "name": "torch"
    },
    "language_info": {
      "codemirror_mode": {
        "name": "ipython",
        "version": 3
      },
      "file_extension": ".py",
      "mimetype": "text/x-python",
      "name": "python",
      "nbconvert_exporter": "python",
      "pygments_lexer": "ipython3",
      "version": "3.7.16"
    }
  },
  "nbformat": 4,
  "nbformat_minor": 0
}